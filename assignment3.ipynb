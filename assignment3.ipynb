{
 "cells": [
  {
   "cell_type": "markdown",
   "metadata": {},
   "source": [
    "## Assignment 3 Kai Foerster (ID: 214288)"
   ]
  },
  {
   "cell_type": "code",
   "execution_count": 248,
   "metadata": {},
   "outputs": [],
   "source": [
    "import pandas as pd\n",
    "import requests\n",
    "from bs4 import BeautifulSoup"
   ]
  },
  {
   "cell_type": "code",
   "execution_count": 249,
   "metadata": {},
   "outputs": [],
   "source": [
    "# Importing the book from the Gutenberg Project https://www.gutenberg.org/cache/epub/1934/pg1934.txt\n",
    "url = \"https://www.gutenberg.org/files/1934/1934-0.txt\"\n",
    "r = requests.get(url)\n",
    "soup = BeautifulSoup(r.content)\n",
    "text = soup.get_text()"
   ]
  },
  {
   "cell_type": "markdown",
   "metadata": {},
   "source": [
    "## Operations for Song of Innocence"
   ]
  },
  {
   "cell_type": "code",
   "execution_count": 250,
   "metadata": {},
   "outputs": [],
   "source": [
    "# Save the Song of Innocence as string called song_of_innocence\n",
    "\n",
    "# Find the fourth occurrence of \"SONG OF INNOCENCE\"\n",
    "start_index_innocence = text.find(\"SONGS OF INNOCENCE\", text.find(\"SONGS OF INNOCENCE\", text.find(\"SONGS OF INNOCENCE\", text.find(\"SONGS OF INNOCENCE\") + 1 ) + 1) + 1)\n",
    "# Find the second occurance of \"SONG OF EXPERIENCE\"\n",
    "end_index_innocence = text.find(\"SONGS OF EXPERIENCE\", text.find(\"SONGS OF EXPERIENCE\") + 1)\n",
    "\n",
    "# Extract the text between \"SONG OF INNOCENCE\" and \"SONG OF EXPERIENCE\"\n",
    "song_of_innocence = text[start_index_innocence:end_index_innocence]"
   ]
  },
  {
   "cell_type": "code",
   "execution_count": 251,
   "metadata": {},
   "outputs": [],
   "source": [
    "# Clean up the text\n",
    "\n",
    "#truncate \"SONGS OF INNOCENCE\" from the beginning of the text\n",
    "song_of_innocence = song_of_innocence[18:]\n",
    "#truncate the last 10 characters from the end of the text\n",
    "song_of_innocence = song_of_innocence[:-10]"
   ]
  },
  {
   "cell_type": "code",
   "execution_count": 252,
   "metadata": {},
   "outputs": [],
   "source": [
    "#Split song_of_innocence into 19 poems and save them in a dataframe with two columns: title and poem\n",
    "\n",
    "#split the text into a list of poems\n",
    "SoI_temp = song_of_innocence.split(\"\\r\\n\\r\\n\\r\\n\\r\\n\\r\\n\")\n",
    "#remove first element of SoE_temp because it is empty\n",
    "SoI_temp = SoI_temp[1:]\n",
    "#split the title from the poem\n",
    "SoI_temp2 = [poem.split(\"\\r\\n\", 1) for poem in SoI_temp]\n",
    "#Manual correction for poem 5\n",
    "SoI_temp2[4][0] = \"THE LITTLE BLACK BOY\"\n",
    "SoI_temp2[4][1] = SoI_temp2[4][1][22:]\n",
    "#convert the list into a dataframe\n",
    "df_poems_innocence = pd.DataFrame(SoI_temp2, columns = [\"title\", \"poem\"])"
   ]
  },
  {
   "cell_type": "code",
   "execution_count": 253,
   "metadata": {},
   "outputs": [],
   "source": [
    "# Creating an empty list to store the results\n",
    "verses_list_innocence = []\n",
    "\n",
    "# Iterating through each poem of df_poems_experience DataFrame\n",
    "for index, poem in df_poems_innocence.iterrows():\n",
    "    title = str(poem['title'])  # Ensure it is a string\n",
    "    poem = str(poem['poem'])    # Ensure it is a string\n",
    "    \n",
    "    # Splitting the poem into stanzas\n",
    "    stanzas = poem.split(\"\\r\\n\\r\\n\")\n",
    "\n",
    "    # Removing empty stanzas\n",
    "    stanzas = [stanza for stanza in stanzas if stanza.strip() != '']\n",
    "    \n",
    "    # Iterating through each stanza and appending it to the list\n",
    "    for i, stanza in enumerate(stanzas):\n",
    "        \n",
    "        #save stanza number\n",
    "        stanza_number = i + 1\n",
    "        # Splitting the stanza into verses\n",
    "        verses = stanza.split(\"\\r\\n\")\n",
    "        # Removing empty verses\n",
    "        verses = [verse for verse in verses if verse.strip() != '']\n",
    "\n",
    "        for j, verse in enumerate(verses):\n",
    "            verses_list_innocence.append({\n",
    "                'Title': title,\n",
    "                'Poem': poem,\n",
    "                'Stanza_Number': stanza_number,  # Adding 1 to have stanza numbers start at 1\n",
    "                'Stanza': stanza,\n",
    "                'Verse_Number': j + 1,   # Adding 1 to have verse numbers start at 1\n",
    "                'Verse': verse\n",
    "            })\n",
    "\n",
    "\n",
    "# Converting the list of dictionaries to a DataFrame\n",
    "verses_innocence_df = pd.DataFrame(verses_list_innocence)\n",
    "\n",
    "# remove column \"Poem\" and \"Stanza\"from verses_df\n",
    "verses_innocence_df_clean = verses_innocence_df.drop(columns = [\"Poem\", \"Stanza\"])\n",
    "verses_innocence_df_clean[\"Book Title\"]= \"Songs of Innocence\"\n",
    "cols_to_move = ['Book Title']\n",
    "verses_innocence_df_clean = verses_innocence_df_clean[cols_to_move + [col for col in verses_innocence_df_clean if col not in cols_to_move]]"
   ]
  },
  {
   "cell_type": "markdown",
   "metadata": {},
   "source": [
    "## Operations for Songs of Experience"
   ]
  },
  {
   "cell_type": "code",
   "execution_count": 254,
   "metadata": {},
   "outputs": [],
   "source": [
    "# Save the Song of Experience in a string called song_of_experience\n",
    "\n",
    "# Find the second occurrence of \"SONG OF EXPERIENCE\"\n",
    "start_index_experience = text.find(\"SONGS OF EXPERIENCE\", text.find(\"SONGS OF EXPERIENCE\") + 1)\n",
    "# Find the text \"*** END OF THE PROJECT\"\n",
    "end_index_experience = text.find(\"*** END OF THE PROJECT\")\n",
    "\n",
    "# Extract the text between \"SONG OF INNOCENCE\" and \"SONG OF EXPERIENCE\"\n",
    "song_of_experience = text[start_index_experience:end_index_experience]"
   ]
  },
  {
   "cell_type": "code",
   "execution_count": 255,
   "metadata": {},
   "outputs": [],
   "source": [
    "# Clean up the text\n",
    "\n",
    "#truncate \"SONGS OF EXPERIENCE\" from the beginning of the text\n",
    "song_of_experience = song_of_experience[19:]\n",
    "#truncate the last 10 characters from the end of the text\n",
    "song_of_experience = song_of_experience[:-10]"
   ]
  },
  {
   "cell_type": "code",
   "execution_count": 256,
   "metadata": {},
   "outputs": [],
   "source": [
    "#Split song_of_experience into 28 poems and save them in a dataframe with two columns: title and poem\n",
    "\n",
    "#split the text into a list of poems\n",
    "SoE_temp = song_of_experience.split(\"\\r\\n\\r\\n\\r\\n\\r\\n\\r\\n\")\n",
    "#remove first element of SoE_temp because it is empty\n",
    "SoE_temp = SoE_temp[1:]\n",
    "#split the title from the poem\n",
    "SoE_temp2 = [poem.split(\"\\r\\n\", 1) for poem in SoE_temp]\n",
    "#convert the list into a dataframe\n",
    "df_poems_experience = pd.DataFrame(SoE_temp2, columns = [\"title\", \"poem\"])\n"
   ]
  },
  {
   "cell_type": "code",
   "execution_count": 257,
   "metadata": {},
   "outputs": [],
   "source": [
    "# Creating an empty list to store the results\n",
    "verses_list_experience = []\n",
    "\n",
    "# Iterating through each poem of df_poems_experience DataFrame\n",
    "for index, poem in df_poems_experience.iterrows():\n",
    "    title = str(poem['title'])  # Ensure it is a string\n",
    "    poem = str(poem['poem'])    # Ensure it is a string\n",
    "    \n",
    "    # Splitting the poem into stanzas\n",
    "    stanzas = poem.split(\"\\r\\n\\r\\n\")\n",
    "\n",
    "    # Removing empty stanzas\n",
    "    stanzas = [stanza for stanza in stanzas if stanza.strip() != '']\n",
    "    \n",
    "    # Iterating through each stanza and appending it to the list\n",
    "    for i, stanza in enumerate(stanzas):\n",
    "        \n",
    "        #save stanza number\n",
    "        stanza_number = i + 1\n",
    "        # Splitting the stanza into verses\n",
    "        verses = stanza.split(\"\\r\\n\")\n",
    "        # Removing empty verses\n",
    "        verses = [verse for verse in verses if verse.strip() != '']\n",
    "\n",
    "        for j, verse in enumerate(verses):\n",
    "            verses_list_experience.append({\n",
    "                'Title': title,\n",
    "                'Poem': poem,\n",
    "                'Stanza_Number': stanza_number,  # Adding 1 to have stanza numbers start at 1\n",
    "                'Stanza': stanza,\n",
    "                'Verse_Number': j + 1,   # Adding 1 to have verse numbers start at 1\n",
    "                'Verse': verse\n",
    "            })\n",
    "\n",
    "\n",
    "# Converting the list of dictionaries to a DataFrame\n",
    "verses_experience_df = pd.DataFrame(verses_list_experience)\n",
    "\n",
    "# remove column \"Poem\" and \"Stanza\"from verses_df\n",
    "verses_experience_df_clean = verses_experience_df.drop(columns = [\"Poem\", \"Stanza\"])\n",
    "verses_experience_df_clean[\"Book Title\"]= \"Songs of Experience\"\n",
    "cols_to_move = ['Book Title']\n",
    "verses_experience_df_clean = verses_experience_df_clean[cols_to_move + [col for col in verses_experience_df_clean if col not in cols_to_move]]"
   ]
  },
  {
   "cell_type": "markdown",
   "metadata": {},
   "source": [
    "## Append Song of Innocence DF and Song of Experience DF"
   ]
  },
  {
   "cell_type": "code",
   "execution_count": 258,
   "metadata": {},
   "outputs": [],
   "source": [
    "verses_df = pd.concat([verses_innocence_df_clean, verses_experience_df_clean], ignore_index=True)"
   ]
  }
 ],
 "metadata": {
  "kernelspec": {
   "display_name": "TaD-programming-excercises-FCqiZMWn",
   "language": "python",
   "name": "python3"
  },
  "language_info": {
   "codemirror_mode": {
    "name": "ipython",
    "version": 3
   },
   "file_extension": ".py",
   "mimetype": "text/x-python",
   "name": "python",
   "nbconvert_exporter": "python",
   "pygments_lexer": "ipython3",
   "version": "3.10.0"
  }
 },
 "nbformat": 4,
 "nbformat_minor": 2
}
